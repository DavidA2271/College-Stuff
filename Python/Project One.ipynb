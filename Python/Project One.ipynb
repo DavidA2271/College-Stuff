{
 "cells": [
  {
   "cell_type": "code",
   "execution_count": 1,
   "id": "8b97acdf",
   "metadata": {},
   "outputs": [],
   "source": [
    "import numpy as np\n",
    "import tensorflow as tf\n",
    "import tensorflow_datasets as tfds\n",
    "from tensorflow.keras import Sequential\n",
    "from tensorflow.keras.layers import Dense\n",
    "from tensorflow.keras.layers import Conv2D\n",
    "from tensorflow.keras.layers import MaxPooling2D\n",
    "from tensorflow.keras.layers import Flatten\n",
    "from tensorflow.keras.losses import SparseCategoricalCrossentropy\n",
    "from tensorflow.keras.metrics import SparseCategoricalAccuracy"
   ]
  },
  {
   "cell_type": "markdown",
   "id": "97892c28",
   "metadata": {},
   "source": [
    "# Machine Learning Experimentation Project\n",
    "\n",
    "I will be using the lessons I learned in class and self study to experiment with a machine learning dataset and model."
   ]
  },
  {
   "cell_type": "markdown",
   "id": "25f5189d",
   "metadata": {},
   "source": [
    "### Project Information\n",
    "This project uses the EuroSAT dataset from tensorflow https://www.tensorflow.org/datasets/catalog/eurosat.\n",
    "EuroSAT is a dataset of 27000 satellite images of different geological terrains (rivers, forest, residential areas, etc.).\n",
    "The goal of this project is to make a model which can most accurately place an image into one of 10 categories."
   ]
  },
  {
   "cell_type": "markdown",
   "id": "76bd69f4",
   "metadata": {},
   "source": [
    "## Helper Function\n",
    "Just a function to help with mapping"
   ]
  },
  {
   "cell_type": "code",
   "execution_count": 2,
   "id": "dad32200",
   "metadata": {},
   "outputs": [],
   "source": [
    "def normalize_img(datapoint):\n",
    "    \"\"\"Normalizes images: `uint8` -> `float32`.\"\"\"\n",
    "    return tf.cast(datapoint['image'], tf.float32) / 255., datapoint['label']"
   ]
  },
  {
   "cell_type": "markdown",
   "id": "547ba513",
   "metadata": {},
   "source": [
    "## Test 1 (Simple DNN)\n",
    "The first test will be a bare bones DNN with only 3 layers."
   ]
  },
  {
   "cell_type": "code",
   "execution_count": 3,
   "id": "3f5facb8",
   "metadata": {},
   "outputs": [
    {
     "name": "stdout",
     "output_type": "stream",
     "text": [
      "tfds.core.DatasetInfo(\n",
      "    name='eurosat',\n",
      "    full_name='eurosat/rgb/2.0.0',\n",
      "    description=\"\"\"\n",
      "    EuroSAT dataset is based on Sentinel-2 satellite images covering 13 spectral\n",
      "    bands and consisting of 10 classes with 27000 labeled and\n",
      "    geo-referenced samples.\n",
      "    \n",
      "    Two datasets are offered:\n",
      "    - rgb: Contains only the optical R, G, B frequency bands encoded as JPEG image.\n",
      "    - all: Contains all 13 bands in the original value range (float32).\n",
      "    \n",
      "    URL: https://github.com/phelber/eurosat\n",
      "    \"\"\",\n",
      "    config_description=\"\"\"\n",
      "    Sentinel-2 RGB channels\n",
      "    \"\"\",\n",
      "    homepage='https://github.com/phelber/eurosat',\n",
      "    data_dir='C:\\\\Users\\\\dargu\\\\tensorflow_datasets\\\\eurosat\\\\rgb\\\\2.0.0',\n",
      "    file_format=tfrecord,\n",
      "    download_size=89.91 MiB,\n",
      "    dataset_size=89.50 MiB,\n",
      "    features=FeaturesDict({\n",
      "        'filename': Text(shape=(), dtype=string),\n",
      "        'image': Image(shape=(64, 64, 3), dtype=uint8),\n",
      "        'label': ClassLabel(shape=(), dtype=int64, num_classes=10),\n",
      "    }),\n",
      "    supervised_keys=('image', 'label'),\n",
      "    disable_shuffling=False,\n",
      "    splits={\n",
      "        'train': <SplitInfo num_examples=27000, num_shards=1>,\n",
      "    },\n",
      "    citation=\"\"\"@misc{helber2017eurosat,\n",
      "        title={EuroSAT: A Novel Dataset and Deep Learning Benchmark for Land Use and Land Cover Classification},\n",
      "        author={Patrick Helber and Benjamin Bischke and Andreas Dengel and Damian Borth},\n",
      "        year={2017},\n",
      "        eprint={1709.00029},\n",
      "        archivePrefix={arXiv},\n",
      "        primaryClass={cs.CV}\n",
      "    }\"\"\",\n",
      ")\n"
     ]
    }
   ],
   "source": [
    "dataset = tfds.builder('eurosat')\n",
    "info = dataset.info # documentation for the dataset\n",
    "print(info)"
   ]
  },
  {
   "cell_type": "code",
   "execution_count": 4,
   "id": "767b0ee0",
   "metadata": {},
   "outputs": [
    {
     "name": "stdout",
     "output_type": "stream",
     "text": [
      "FeaturesDict({\n",
      "    'filename': Text(shape=(), dtype=string),\n",
      "    'image': Image(shape=(64, 64, 3), dtype=uint8),\n",
      "    'label': ClassLabel(shape=(), dtype=int64, num_classes=10),\n",
      "})\n",
      "These are the attributes that can be accessed from each training element\n",
      "\n",
      "Classes:\n",
      "\t AnnualCrop\n",
      "\t Forest\n",
      "\t HerbaceousVegetation\n",
      "\t Highway\n",
      "\t Industrial\n",
      "\t Pasture\n",
      "\t PermanentCrop\n",
      "\t Residential\n",
      "\t River\n",
      "\t SeaLake\n"
     ]
    }
   ],
   "source": [
    "print(info.features)\n",
    "print(\"These are the attributes that can be accessed from each training element\\n\")\n",
    "\n",
    "print(\"Classes:\")\n",
    "for i in range(info.features[\"label\"].num_classes):\n",
    "    print('\\t',info.features[\"label\"].int2str(i))"
   ]
  },
  {
   "cell_type": "code",
   "execution_count": 5,
   "id": "d59020b4",
   "metadata": {},
   "outputs": [
    {
     "name": "stdout",
     "output_type": "stream",
     "text": [
      "Using 90% data for training and rest 10% for testing\n",
      "Train: 24300 Test: 2700\n"
     ]
    }
   ],
   "source": [
    "print(\"Using 90% data for training and rest 10% for testing\")\n",
    "(train, test) = tfds.load(\"eurosat/rgb\", split=[\"train[:90%]\", \"train[90%:]\"])\n",
    "print('Train:', len(train), 'Test:', len(test))"
   ]
  },
  {
   "cell_type": "code",
   "execution_count": 6,
   "id": "fab7bed1",
   "metadata": {},
   "outputs": [
    {
     "name": "stdout",
     "output_type": "stream",
     "text": [
      "Batching the training set with a size of 128.\n",
      "This means the model can work on 128 images at once. train.batch()\n",
      "\n",
      "Normalizing images so pixel values are between 0 and 1. train.map()\n",
      "Storing training set in cache so subsequent calls are faster. train.cache()\n",
      "Shuffling training set. train.shuffle()\n",
      "\n",
      "Batching, mapping, and caching test set as well\n"
     ]
    }
   ],
   "source": [
    "print(\"Batching the training set with a size of 128.\")\n",
    "print(\"This means the model can work on 128 images at once. train.batch()\\n\")\n",
    "train = train.batch(128)\n",
    "print(\"Normalizing images so pixel values are between 0 and 1. train.map()\")\n",
    "train = train.map(normalize_img, num_parallel_calls=tf.data.AUTOTUNE)\n",
    "print(\"Storing training set in cache so subsequent calls are faster. train.cache()\")\n",
    "train = train.cache() # stores training set in cache so subsequent calls are faster\n",
    "print(\"Shuffling training set. train.shuffle()\\n\")\n",
    "train = train.shuffle(len(train)) # shuffles set\n",
    "\n",
    "print(\"Batching, mapping, and caching test set as well\")\n",
    "test = test.batch(128)\n",
    "test = test.map(normalize_img, num_parallel_calls=tf.data.AUTOTUNE)\n",
    "test = test.cache()"
   ]
  },
  {
   "cell_type": "code",
   "execution_count": 7,
   "id": "7a9438a5",
   "metadata": {},
   "outputs": [
    {
     "name": "stdout",
     "output_type": "stream",
     "text": [
      "Making a model with only 3 layers. One Flatten layer and two Dense.\n",
      "Using relu and softmax\n",
      "\n",
      "Using SparseCategoricalCrossentropy for loss and metrics \n",
      "\n",
      "Fitting model with 100 epochs\n",
      "Epoch 1/100\n",
      "190/190 [==============================] - 3s 13ms/step - loss: 2.8138 - sparse_categorical_accuracy: 0.1975\n",
      "Epoch 2/100\n",
      "190/190 [==============================] - 3s 14ms/step - loss: 1.8679 - sparse_categorical_accuracy: 0.2284\n",
      "Epoch 3/100\n",
      "190/190 [==============================] - 3s 14ms/step - loss: 1.8288 - sparse_categorical_accuracy: 0.2463\n",
      "Epoch 4/100\n",
      "190/190 [==============================] - 3s 14ms/step - loss: 1.8139 - sparse_categorical_accuracy: 0.2605\n",
      "Epoch 5/100\n",
      "190/190 [==============================] - 3s 14ms/step - loss: 1.8011 - sparse_categorical_accuracy: 0.2649\n",
      "Epoch 6/100\n",
      "190/190 [==============================] - 2s 13ms/step - loss: 1.7908 - sparse_categorical_accuracy: 0.2704\n",
      "Epoch 7/100\n",
      "190/190 [==============================] - 2s 13ms/step - loss: 1.7817 - sparse_categorical_accuracy: 0.2727\n",
      "Epoch 8/100\n",
      "190/190 [==============================] - 3s 13ms/step - loss: 1.7755 - sparse_categorical_accuracy: 0.2731\n",
      "Epoch 9/100\n",
      "190/190 [==============================] - 3s 13ms/step - loss: 1.7673 - sparse_categorical_accuracy: 0.2793\n",
      "Epoch 10/100\n",
      "190/190 [==============================] - 3s 14ms/step - loss: 1.7629 - sparse_categorical_accuracy: 0.2786\n",
      "Epoch 11/100\n",
      "190/190 [==============================] - 3s 14ms/step - loss: 1.7575 - sparse_categorical_accuracy: 0.2839\n",
      "Epoch 12/100\n",
      "190/190 [==============================] - 3s 13ms/step - loss: 1.7519 - sparse_categorical_accuracy: 0.2866\n",
      "Epoch 13/100\n",
      "190/190 [==============================] - 3s 14ms/step - loss: 1.7485 - sparse_categorical_accuracy: 0.2893\n",
      "Epoch 14/100\n",
      "190/190 [==============================] - 3s 14ms/step - loss: 1.7444 - sparse_categorical_accuracy: 0.2880\n",
      "Epoch 15/100\n",
      "190/190 [==============================] - 3s 14ms/step - loss: 1.7409 - sparse_categorical_accuracy: 0.2881\n",
      "Epoch 16/100\n",
      "190/190 [==============================] - 3s 14ms/step - loss: 1.7360 - sparse_categorical_accuracy: 0.2925\n",
      "Epoch 17/100\n",
      "190/190 [==============================] - 3s 13ms/step - loss: 1.7339 - sparse_categorical_accuracy: 0.2909\n",
      "Epoch 18/100\n",
      "190/190 [==============================] - 3s 13ms/step - loss: 1.7306 - sparse_categorical_accuracy: 0.2934\n",
      "Epoch 19/100\n",
      "190/190 [==============================] - 2s 13ms/step - loss: 1.7265 - sparse_categorical_accuracy: 0.2915\n",
      "Epoch 20/100\n",
      "190/190 [==============================] - 2s 13ms/step - loss: 1.7245 - sparse_categorical_accuracy: 0.2927\n",
      "Epoch 21/100\n",
      "190/190 [==============================] - 3s 13ms/step - loss: 1.7228 - sparse_categorical_accuracy: 0.2935\n",
      "Epoch 22/100\n",
      "190/190 [==============================] - 3s 13ms/step - loss: 1.7211 - sparse_categorical_accuracy: 0.2972\n",
      "Epoch 23/100\n",
      "190/190 [==============================] - 3s 13ms/step - loss: 1.7170 - sparse_categorical_accuracy: 0.2949\n",
      "Epoch 24/100\n",
      "190/190 [==============================] - 2s 13ms/step - loss: 1.7157 - sparse_categorical_accuracy: 0.3012\n",
      "Epoch 25/100\n",
      "190/190 [==============================] - 2s 13ms/step - loss: 1.7150 - sparse_categorical_accuracy: 0.2985\n",
      "Epoch 26/100\n",
      "190/190 [==============================] - 2s 13ms/step - loss: 1.7127 - sparse_categorical_accuracy: 0.3012\n",
      "Epoch 27/100\n",
      "190/190 [==============================] - 2s 13ms/step - loss: 1.7124 - sparse_categorical_accuracy: 0.2986\n",
      "Epoch 28/100\n",
      "190/190 [==============================] - 2s 13ms/step - loss: 1.7092 - sparse_categorical_accuracy: 0.3004\n",
      "Epoch 29/100\n",
      "190/190 [==============================] - 2s 13ms/step - loss: 1.7066 - sparse_categorical_accuracy: 0.3055\n",
      "Epoch 30/100\n",
      "190/190 [==============================] - 2s 13ms/step - loss: 1.7072 - sparse_categorical_accuracy: 0.3044\n",
      "Epoch 31/100\n",
      "190/190 [==============================] - 3s 13ms/step - loss: 1.7043 - sparse_categorical_accuracy: 0.3067\n",
      "Epoch 32/100\n",
      "190/190 [==============================] - 3s 14ms/step - loss: 1.7025 - sparse_categorical_accuracy: 0.3086\n",
      "Epoch 33/100\n",
      "190/190 [==============================] - 3s 13ms/step - loss: 1.7003 - sparse_categorical_accuracy: 0.3081\n",
      "Epoch 34/100\n",
      "190/190 [==============================] - 3s 14ms/step - loss: 1.7002 - sparse_categorical_accuracy: 0.3153\n",
      "Epoch 35/100\n",
      "190/190 [==============================] - 3s 14ms/step - loss: 1.6994 - sparse_categorical_accuracy: 0.3098\n",
      "Epoch 36/100\n",
      "190/190 [==============================] - 3s 13ms/step - loss: 1.6971 - sparse_categorical_accuracy: 0.3134\n",
      "Epoch 37/100\n",
      "190/190 [==============================] - 3s 14ms/step - loss: 1.6995 - sparse_categorical_accuracy: 0.3147\n",
      "Epoch 38/100\n",
      "190/190 [==============================] - 2s 13ms/step - loss: 1.6971 - sparse_categorical_accuracy: 0.3200\n",
      "Epoch 39/100\n",
      "190/190 [==============================] - 3s 13ms/step - loss: 1.6983 - sparse_categorical_accuracy: 0.3190\n",
      "Epoch 40/100\n",
      "190/190 [==============================] - 2s 13ms/step - loss: 1.6974 - sparse_categorical_accuracy: 0.3200\n",
      "Epoch 41/100\n",
      "190/190 [==============================] - 2s 13ms/step - loss: 1.6945 - sparse_categorical_accuracy: 0.3220\n",
      "Epoch 42/100\n",
      "190/190 [==============================] - 2s 13ms/step - loss: 1.6969 - sparse_categorical_accuracy: 0.3233\n",
      "Epoch 43/100\n",
      "190/190 [==============================] - 2s 13ms/step - loss: 1.6921 - sparse_categorical_accuracy: 0.3227\n",
      "Epoch 44/100\n",
      "190/190 [==============================] - 2s 13ms/step - loss: 1.6923 - sparse_categorical_accuracy: 0.3242\n",
      "Epoch 45/100\n",
      "190/190 [==============================] - 2s 13ms/step - loss: 1.6919 - sparse_categorical_accuracy: 0.3239\n",
      "Epoch 46/100\n",
      "190/190 [==============================] - 2s 13ms/step - loss: 1.6948 - sparse_categorical_accuracy: 0.3214\n",
      "Epoch 47/100\n",
      "190/190 [==============================] - 2s 13ms/step - loss: 1.6910 - sparse_categorical_accuracy: 0.3242\n",
      "Epoch 48/100\n",
      "190/190 [==============================] - 2s 13ms/step - loss: 1.6911 - sparse_categorical_accuracy: 0.3264\n",
      "Epoch 49/100\n",
      "190/190 [==============================] - 2s 13ms/step - loss: 1.6880 - sparse_categorical_accuracy: 0.3249\n",
      "Epoch 50/100\n",
      "190/190 [==============================] - 2s 13ms/step - loss: 1.6895 - sparse_categorical_accuracy: 0.3258\n",
      "Epoch 51/100\n",
      "190/190 [==============================] - 2s 13ms/step - loss: 1.6879 - sparse_categorical_accuracy: 0.3286\n",
      "Epoch 52/100\n",
      "190/190 [==============================] - 2s 13ms/step - loss: 1.6877 - sparse_categorical_accuracy: 0.3235\n",
      "Epoch 53/100\n",
      "190/190 [==============================] - 2s 13ms/step - loss: 1.6902 - sparse_categorical_accuracy: 0.3263\n",
      "Epoch 54/100\n",
      "190/190 [==============================] - 2s 13ms/step - loss: 1.6845 - sparse_categorical_accuracy: 0.3270\n",
      "Epoch 55/100\n",
      "190/190 [==============================] - 2s 13ms/step - loss: 1.6881 - sparse_categorical_accuracy: 0.3274\n",
      "Epoch 56/100\n",
      "190/190 [==============================] - 2s 13ms/step - loss: 1.6859 - sparse_categorical_accuracy: 0.3295\n",
      "Epoch 57/100\n",
      "190/190 [==============================] - 2s 13ms/step - loss: 1.6850 - sparse_categorical_accuracy: 0.3269\n",
      "Epoch 58/100\n",
      "190/190 [==============================] - 2s 13ms/step - loss: 1.6842 - sparse_categorical_accuracy: 0.3309\n",
      "Epoch 59/100\n",
      "190/190 [==============================] - 2s 13ms/step - loss: 1.6851 - sparse_categorical_accuracy: 0.3307\n",
      "Epoch 60/100\n",
      "190/190 [==============================] - 2s 13ms/step - loss: 1.6835 - sparse_categorical_accuracy: 0.3298\n",
      "Epoch 61/100\n",
      "190/190 [==============================] - 2s 13ms/step - loss: 1.6844 - sparse_categorical_accuracy: 0.3298\n",
      "Epoch 62/100\n",
      "190/190 [==============================] - 2s 13ms/step - loss: 1.6837 - sparse_categorical_accuracy: 0.3321\n",
      "Epoch 63/100\n",
      "190/190 [==============================] - 2s 13ms/step - loss: 1.6818 - sparse_categorical_accuracy: 0.3309\n",
      "Epoch 64/100\n",
      "190/190 [==============================] - 2s 13ms/step - loss: 1.6829 - sparse_categorical_accuracy: 0.3334\n",
      "Epoch 65/100\n",
      "190/190 [==============================] - 2s 13ms/step - loss: 1.6816 - sparse_categorical_accuracy: 0.3326\n",
      "Epoch 66/100\n"
     ]
    },
    {
     "name": "stdout",
     "output_type": "stream",
     "text": [
      "190/190 [==============================] - 2s 13ms/step - loss: 1.6818 - sparse_categorical_accuracy: 0.3326\n",
      "Epoch 67/100\n",
      "190/190 [==============================] - 2s 13ms/step - loss: 1.6827 - sparse_categorical_accuracy: 0.3304\n",
      "Epoch 68/100\n",
      "190/190 [==============================] - 2s 13ms/step - loss: 1.6805 - sparse_categorical_accuracy: 0.3317\n",
      "Epoch 69/100\n",
      "190/190 [==============================] - 2s 13ms/step - loss: 1.6793 - sparse_categorical_accuracy: 0.3337\n",
      "Epoch 70/100\n",
      "190/190 [==============================] - 2s 13ms/step - loss: 1.6809 - sparse_categorical_accuracy: 0.3316\n",
      "Epoch 71/100\n",
      "190/190 [==============================] - 2s 13ms/step - loss: 1.6788 - sparse_categorical_accuracy: 0.3372\n",
      "Epoch 72/100\n",
      "190/190 [==============================] - 2s 13ms/step - loss: 1.6775 - sparse_categorical_accuracy: 0.3363\n",
      "Epoch 73/100\n",
      "190/190 [==============================] - 2s 13ms/step - loss: 1.6806 - sparse_categorical_accuracy: 0.3348\n",
      "Epoch 74/100\n",
      "190/190 [==============================] - 2s 13ms/step - loss: 1.6790 - sparse_categorical_accuracy: 0.3335\n",
      "Epoch 75/100\n",
      "190/190 [==============================] - 2s 13ms/step - loss: 1.6796 - sparse_categorical_accuracy: 0.3322\n",
      "Epoch 76/100\n",
      "190/190 [==============================] - 2s 13ms/step - loss: 1.6791 - sparse_categorical_accuracy: 0.3367\n",
      "Epoch 77/100\n",
      "190/190 [==============================] - 2s 13ms/step - loss: 1.6764 - sparse_categorical_accuracy: 0.3381\n",
      "Epoch 78/100\n",
      "190/190 [==============================] - 2s 13ms/step - loss: 1.6758 - sparse_categorical_accuracy: 0.3363\n",
      "Epoch 79/100\n",
      "190/190 [==============================] - 2s 13ms/step - loss: 1.6782 - sparse_categorical_accuracy: 0.3363\n",
      "Epoch 80/100\n",
      "190/190 [==============================] - 2s 13ms/step - loss: 1.6758 - sparse_categorical_accuracy: 0.3334\n",
      "Epoch 81/100\n",
      "190/190 [==============================] - 2s 13ms/step - loss: 1.6777 - sparse_categorical_accuracy: 0.3343\n",
      "Epoch 82/100\n",
      "190/190 [==============================] - 2s 13ms/step - loss: 1.6744 - sparse_categorical_accuracy: 0.3339\n",
      "Epoch 83/100\n",
      "190/190 [==============================] - 2s 13ms/step - loss: 1.6746 - sparse_categorical_accuracy: 0.3367\n",
      "Epoch 84/100\n",
      "190/190 [==============================] - 2s 13ms/step - loss: 1.6723 - sparse_categorical_accuracy: 0.3393\n",
      "Epoch 85/100\n",
      "190/190 [==============================] - 2s 13ms/step - loss: 1.6751 - sparse_categorical_accuracy: 0.3360\n",
      "Epoch 86/100\n",
      "190/190 [==============================] - 2s 13ms/step - loss: 1.6758 - sparse_categorical_accuracy: 0.3359\n",
      "Epoch 87/100\n",
      "190/190 [==============================] - 2s 13ms/step - loss: 1.6744 - sparse_categorical_accuracy: 0.3368\n",
      "Epoch 88/100\n",
      "190/190 [==============================] - 2s 13ms/step - loss: 1.6722 - sparse_categorical_accuracy: 0.3351\n",
      "Epoch 89/100\n",
      "190/190 [==============================] - 2s 13ms/step - loss: 1.6747 - sparse_categorical_accuracy: 0.3370\n",
      "Epoch 90/100\n",
      "190/190 [==============================] - 2s 13ms/step - loss: 1.6725 - sparse_categorical_accuracy: 0.3385\n",
      "Epoch 91/100\n",
      "190/190 [==============================] - 2s 13ms/step - loss: 1.6722 - sparse_categorical_accuracy: 0.3377\n",
      "Epoch 92/100\n",
      "190/190 [==============================] - 3s 13ms/step - loss: 1.6731 - sparse_categorical_accuracy: 0.3387\n",
      "Epoch 93/100\n",
      "190/190 [==============================] - 3s 13ms/step - loss: 1.6707 - sparse_categorical_accuracy: 0.3372\n",
      "Epoch 94/100\n",
      "190/190 [==============================] - 3s 14ms/step - loss: 1.6734 - sparse_categorical_accuracy: 0.3379\n",
      "Epoch 95/100\n",
      "190/190 [==============================] - 3s 13ms/step - loss: 1.6719 - sparse_categorical_accuracy: 0.3385\n",
      "Epoch 96/100\n",
      "190/190 [==============================] - 3s 14ms/step - loss: 1.6716 - sparse_categorical_accuracy: 0.3369\n",
      "Epoch 97/100\n",
      "190/190 [==============================] - 3s 14ms/step - loss: 1.6746 - sparse_categorical_accuracy: 0.3348\n",
      "Epoch 98/100\n",
      "190/190 [==============================] - 3s 13ms/step - loss: 1.6712 - sparse_categorical_accuracy: 0.3361\n",
      "Epoch 99/100\n",
      "190/190 [==============================] - 2s 13ms/step - loss: 1.6693 - sparse_categorical_accuracy: 0.3379\n",
      "Epoch 100/100\n",
      "190/190 [==============================] - 2s 13ms/step - loss: 1.6697 - sparse_categorical_accuracy: 0.3366\n"
     ]
    },
    {
     "data": {
      "text/plain": [
       "<keras.src.callbacks.History at 0x1f5bf8d0850>"
      ]
     },
     "execution_count": 7,
     "metadata": {},
     "output_type": "execute_result"
    }
   ],
   "source": [
    "print(\"Making a model with only 3 layers. One Flatten layer and two Dense.\")\n",
    "print(\"Using relu and softmax\\n\")\n",
    "model = Sequential([\n",
    "  Flatten(input_shape=(64, 64, 3)),\n",
    "  Dense(128, activation='relu'),\n",
    "  Dense(info.features[\"label\"].num_classes, activation='softmax')\n",
    "])\n",
    "\n",
    "print(\"Using SparseCategoricalCrossentropy for loss and metrics \\n\")\n",
    "model.compile(\n",
    "    loss=SparseCategoricalCrossentropy(from_logits=False),\n",
    "    metrics=[SparseCategoricalAccuracy()]\n",
    ")\n",
    "\n",
    "print(\"Fitting model with 100 epochs\")\n",
    "model.fit(\n",
    "    train,\n",
    "    epochs=100,\n",
    ")\n",
    "\n",
    "# for some reason it doesn't work sometimes. In my final lookover at about 11:30, this cell is giving me errors.\n",
    "# All I can say is it worked before, but isn't working now."
   ]
  },
  {
   "cell_type": "code",
   "execution_count": 13,
   "id": "7bc13d99",
   "metadata": {},
   "outputs": [
    {
     "name": "stdout",
     "output_type": "stream",
     "text": [
      "43/43 [==============================] - 0s 4ms/step - loss: 2.2954 - sparse_categorical_accuracy: 0.1061\n",
      "\n",
      "Test accuracy: 10.6%\n"
     ]
    }
   ],
   "source": [
    "loss, acc = model.evaluate(test)\n",
    "print(\"\\nTest accuracy: %.1f%%\" % (100.0 * acc))"
   ]
  },
  {
   "cell_type": "markdown",
   "id": "5ff5b93f",
   "metadata": {},
   "source": [
    "Accuracy is very bad at only 10.6%. I will try to improve it with further tests."
   ]
  },
  {
   "cell_type": "markdown",
   "id": "cb028f4f",
   "metadata": {},
   "source": [
    "## Test 2 (Validation)\n",
    "In this test I use a validation set of data to increase accuracy"
   ]
  },
  {
   "cell_type": "code",
   "execution_count": 8,
   "id": "fd8d4f17",
   "metadata": {},
   "outputs": [],
   "source": [
    "dataset = tfds.builder('eurosat')\n",
    "info = dataset.info"
   ]
  },
  {
   "cell_type": "code",
   "execution_count": 9,
   "id": "b8cdfb5d",
   "metadata": {},
   "outputs": [
    {
     "name": "stdout",
     "output_type": "stream",
     "text": [
      "For this test I take 10% away from training and add it to \n",
      "Train: 21600 Validation: 2700 Test: 2700\n"
     ]
    }
   ],
   "source": [
    "print('For this test I take 10% away from training and add it to ')\n",
    "(train, val, test) = tfds.load(\"eurosat/rgb\", split=[\"train[:80%]\", \"train[80%:90%]\", \"train[90%:]\"])\n",
    "print('Train:', len(train), 'Validation:', len(val), 'Test:', len(test))"
   ]
  },
  {
   "cell_type": "code",
   "execution_count": 10,
   "id": "4a1afeab",
   "metadata": {},
   "outputs": [],
   "source": [
    "train = train.batch(128)\n",
    "train = train.map(normalize_img, num_parallel_calls=tf.data.AUTOTUNE)\n",
    "train = train.cache() # stores training set in cache so subsequent calls are faster\n",
    "train = train.shuffle(len(train)) # shuffles set\n",
    "\n",
    "val = val.batch(128)\n",
    "val = val.map(normalize_img, num_parallel_calls=tf.data.AUTOTUNE)\n",
    "\n",
    "# do same to test set\n",
    "test = test.batch(128)\n",
    "test = test.map(normalize_img, num_parallel_calls=tf.data.AUTOTUNE)\n",
    "test = test.cache()"
   ]
  },
  {
   "cell_type": "code",
   "execution_count": 11,
   "id": "a8e002ef",
   "metadata": {},
   "outputs": [
    {
     "name": "stdout",
     "output_type": "stream",
     "text": [
      "Adding a validation set.\n",
      "Epoch 1/100\n"
     ]
    },
    {
     "ename": "ValueError",
     "evalue": "in user code:\n\n    File \"C:\\Users\\dargu\\AppData\\Local\\Programs\\Python\\Python310\\lib\\site-packages\\keras\\src\\engine\\training.py\", line 1338, in train_function  *\n        return step_function(self, iterator)\n    File \"C:\\Users\\dargu\\AppData\\Local\\Programs\\Python\\Python310\\lib\\site-packages\\keras\\src\\engine\\training.py\", line 1322, in step_function  **\n        outputs = model.distribute_strategy.run(run_step, args=(data,))\n    File \"C:\\Users\\dargu\\AppData\\Local\\Programs\\Python\\Python310\\lib\\site-packages\\keras\\src\\engine\\training.py\", line 1303, in run_step  **\n        outputs = model.train_step(data)\n    File \"C:\\Users\\dargu\\AppData\\Local\\Programs\\Python\\Python310\\lib\\site-packages\\keras\\src\\engine\\training.py\", line 1084, in train_step\n        self.optimizer.minimize(loss, self.trainable_variables, tape=tape)\n    File \"C:\\Users\\dargu\\AppData\\Local\\Programs\\Python\\Python310\\lib\\site-packages\\keras\\src\\optimizers\\optimizer.py\", line 544, in minimize\n        self.apply_gradients(grads_and_vars)\n    File \"C:\\Users\\dargu\\AppData\\Local\\Programs\\Python\\Python310\\lib\\site-packages\\keras\\src\\optimizers\\optimizer.py\", line 1229, in apply_gradients\n        grads_and_vars = self.aggregate_gradients(grads_and_vars)\n    File \"C:\\Users\\dargu\\AppData\\Local\\Programs\\Python\\Python310\\lib\\site-packages\\keras\\src\\optimizers\\optimizer.py\", line 1191, in aggregate_gradients\n        return optimizer_utils.all_reduce_sum_gradients(grads_and_vars)\n    File \"C:\\Users\\dargu\\AppData\\Local\\Programs\\Python\\Python310\\lib\\site-packages\\keras\\src\\optimizers\\utils.py\", line 33, in all_reduce_sum_gradients\n        filtered_grads_and_vars = filter_empty_gradients(grads_and_vars)\n    File \"C:\\Users\\dargu\\AppData\\Local\\Programs\\Python\\Python310\\lib\\site-packages\\keras\\src\\optimizers\\utils.py\", line 77, in filter_empty_gradients\n        raise ValueError(\n\n    ValueError: No gradients provided for any variable: (['dense_2/kernel:0', 'dense_2/bias:0', 'dense_3/kernel:0', 'dense_3/bias:0'],). Provided `grads_and_vars` is ((None, <tf.Variable 'dense_2/kernel:0' shape=(12288, 128) dtype=float32>), (None, <tf.Variable 'dense_2/bias:0' shape=(128,) dtype=float32>), (None, <tf.Variable 'dense_3/kernel:0' shape=(128, 10) dtype=float32>), (None, <tf.Variable 'dense_3/bias:0' shape=(10,) dtype=float32>)).\n",
     "output_type": "error",
     "traceback": [
      "\u001b[1;31m---------------------------------------------------------------------------\u001b[0m",
      "\u001b[1;31mValueError\u001b[0m                                Traceback (most recent call last)",
      "Cell \u001b[1;32mIn[11], line 14\u001b[0m\n\u001b[0;32m      8\u001b[0m model\u001b[38;5;241m.\u001b[39mcompile(\n\u001b[0;32m      9\u001b[0m     loss\u001b[38;5;241m=\u001b[39mSparseCategoricalCrossentropy(from_logits\u001b[38;5;241m=\u001b[39m\u001b[38;5;28;01mFalse\u001b[39;00m),\n\u001b[0;32m     10\u001b[0m     metrics\u001b[38;5;241m=\u001b[39m[SparseCategoricalAccuracy()]\n\u001b[0;32m     11\u001b[0m )\n\u001b[0;32m     13\u001b[0m \u001b[38;5;28mprint\u001b[39m(\u001b[38;5;124m\"\u001b[39m\u001b[38;5;124mAdding a validation set.\u001b[39m\u001b[38;5;124m\"\u001b[39m)\n\u001b[1;32m---> 14\u001b[0m \u001b[43mmodel\u001b[49m\u001b[38;5;241;43m.\u001b[39;49m\u001b[43mfit\u001b[49m\u001b[43m(\u001b[49m\n\u001b[0;32m     15\u001b[0m \u001b[43m    \u001b[49m\u001b[43mtrain\u001b[49m\u001b[43m,\u001b[49m\n\u001b[0;32m     16\u001b[0m \u001b[43m    \u001b[49m\u001b[43mepochs\u001b[49m\u001b[38;5;241;43m=\u001b[39;49m\u001b[38;5;241;43m100\u001b[39;49m\u001b[43m,\u001b[49m\n\u001b[0;32m     17\u001b[0m \u001b[43m    \u001b[49m\u001b[43mvalidation_data\u001b[49m\u001b[38;5;241;43m=\u001b[39;49m\u001b[43mval\u001b[49m\u001b[43m,\u001b[49m\n\u001b[0;32m     18\u001b[0m \u001b[43m)\u001b[49m\n",
      "File \u001b[1;32m~\\AppData\\Local\\Programs\\Python\\Python310\\lib\\site-packages\\keras\\src\\utils\\traceback_utils.py:70\u001b[0m, in \u001b[0;36mfilter_traceback.<locals>.error_handler\u001b[1;34m(*args, **kwargs)\u001b[0m\n\u001b[0;32m     67\u001b[0m     filtered_tb \u001b[38;5;241m=\u001b[39m _process_traceback_frames(e\u001b[38;5;241m.\u001b[39m__traceback__)\n\u001b[0;32m     68\u001b[0m     \u001b[38;5;66;03m# To get the full stack trace, call:\u001b[39;00m\n\u001b[0;32m     69\u001b[0m     \u001b[38;5;66;03m# `tf.debugging.disable_traceback_filtering()`\u001b[39;00m\n\u001b[1;32m---> 70\u001b[0m     \u001b[38;5;28;01mraise\u001b[39;00m e\u001b[38;5;241m.\u001b[39mwith_traceback(filtered_tb) \u001b[38;5;28;01mfrom\u001b[39;00m \u001b[38;5;28mNone\u001b[39m\n\u001b[0;32m     71\u001b[0m \u001b[38;5;28;01mfinally\u001b[39;00m:\n\u001b[0;32m     72\u001b[0m     \u001b[38;5;28;01mdel\u001b[39;00m filtered_tb\n",
      "File \u001b[1;32m~\\AppData\\Local\\Temp\\__autograph_generated_filevg7m6rta.py:15\u001b[0m, in \u001b[0;36mouter_factory.<locals>.inner_factory.<locals>.tf__train_function\u001b[1;34m(iterator)\u001b[0m\n\u001b[0;32m     13\u001b[0m \u001b[38;5;28;01mtry\u001b[39;00m:\n\u001b[0;32m     14\u001b[0m     do_return \u001b[38;5;241m=\u001b[39m \u001b[38;5;28;01mTrue\u001b[39;00m\n\u001b[1;32m---> 15\u001b[0m     retval_ \u001b[38;5;241m=\u001b[39m ag__\u001b[38;5;241m.\u001b[39mconverted_call(ag__\u001b[38;5;241m.\u001b[39mld(step_function), (ag__\u001b[38;5;241m.\u001b[39mld(\u001b[38;5;28mself\u001b[39m), ag__\u001b[38;5;241m.\u001b[39mld(iterator)), \u001b[38;5;28;01mNone\u001b[39;00m, fscope)\n\u001b[0;32m     16\u001b[0m \u001b[38;5;28;01mexcept\u001b[39;00m:\n\u001b[0;32m     17\u001b[0m     do_return \u001b[38;5;241m=\u001b[39m \u001b[38;5;28;01mFalse\u001b[39;00m\n",
      "\u001b[1;31mValueError\u001b[0m: in user code:\n\n    File \"C:\\Users\\dargu\\AppData\\Local\\Programs\\Python\\Python310\\lib\\site-packages\\keras\\src\\engine\\training.py\", line 1338, in train_function  *\n        return step_function(self, iterator)\n    File \"C:\\Users\\dargu\\AppData\\Local\\Programs\\Python\\Python310\\lib\\site-packages\\keras\\src\\engine\\training.py\", line 1322, in step_function  **\n        outputs = model.distribute_strategy.run(run_step, args=(data,))\n    File \"C:\\Users\\dargu\\AppData\\Local\\Programs\\Python\\Python310\\lib\\site-packages\\keras\\src\\engine\\training.py\", line 1303, in run_step  **\n        outputs = model.train_step(data)\n    File \"C:\\Users\\dargu\\AppData\\Local\\Programs\\Python\\Python310\\lib\\site-packages\\keras\\src\\engine\\training.py\", line 1084, in train_step\n        self.optimizer.minimize(loss, self.trainable_variables, tape=tape)\n    File \"C:\\Users\\dargu\\AppData\\Local\\Programs\\Python\\Python310\\lib\\site-packages\\keras\\src\\optimizers\\optimizer.py\", line 544, in minimize\n        self.apply_gradients(grads_and_vars)\n    File \"C:\\Users\\dargu\\AppData\\Local\\Programs\\Python\\Python310\\lib\\site-packages\\keras\\src\\optimizers\\optimizer.py\", line 1229, in apply_gradients\n        grads_and_vars = self.aggregate_gradients(grads_and_vars)\n    File \"C:\\Users\\dargu\\AppData\\Local\\Programs\\Python\\Python310\\lib\\site-packages\\keras\\src\\optimizers\\optimizer.py\", line 1191, in aggregate_gradients\n        return optimizer_utils.all_reduce_sum_gradients(grads_and_vars)\n    File \"C:\\Users\\dargu\\AppData\\Local\\Programs\\Python\\Python310\\lib\\site-packages\\keras\\src\\optimizers\\utils.py\", line 33, in all_reduce_sum_gradients\n        filtered_grads_and_vars = filter_empty_gradients(grads_and_vars)\n    File \"C:\\Users\\dargu\\AppData\\Local\\Programs\\Python\\Python310\\lib\\site-packages\\keras\\src\\optimizers\\utils.py\", line 77, in filter_empty_gradients\n        raise ValueError(\n\n    ValueError: No gradients provided for any variable: (['dense_2/kernel:0', 'dense_2/bias:0', 'dense_3/kernel:0', 'dense_3/bias:0'],). Provided `grads_and_vars` is ((None, <tf.Variable 'dense_2/kernel:0' shape=(12288, 128) dtype=float32>), (None, <tf.Variable 'dense_2/bias:0' shape=(128,) dtype=float32>), (None, <tf.Variable 'dense_3/kernel:0' shape=(128, 10) dtype=float32>), (None, <tf.Variable 'dense_3/bias:0' shape=(10,) dtype=float32>)).\n"
     ]
    }
   ],
   "source": [
    "model = Sequential([\n",
    "  Flatten(input_shape=(64, 64, 3)),\n",
    "  Dense(128, activation='relu'),\n",
    "  Dense(info.features[\"label\"].num_classes, activation='softmax')\n",
    "])\n",
    "\n",
    "# use default params for model compiler\n",
    "model.compile(\n",
    "    loss=SparseCategoricalCrossentropy(from_logits=False),\n",
    "    metrics=[SparseCategoricalAccuracy()]\n",
    ")\n",
    "\n",
    "print(\"Adding a validation set.\")\n",
    "model.fit(\n",
    "    train,\n",
    "    epochs=100,\n",
    "    validation_data=val,\n",
    ")"
   ]
  },
  {
   "cell_type": "code",
   "execution_count": 19,
   "id": "a5f325fa",
   "metadata": {},
   "outputs": [
    {
     "name": "stdout",
     "output_type": "stream",
     "text": [
      "22/22 [==============================] - 0s 4ms/step - loss: 1.6541 - sparse_categorical_accuracy: 0.3956\n",
      "\n",
      "Test accuracy: 39.6%\n"
     ]
    }
   ],
   "source": [
    "loss, acc = model.evaluate(test)\n",
    "print(\"\\nTest accuracy: %.1f%%\" % (100.0 * acc))"
   ]
  },
  {
   "cell_type": "markdown",
   "id": "9e72e299",
   "metadata": {},
   "source": [
    "Accuracy is much better than last time, but still not so good."
   ]
  },
  {
   "cell_type": "markdown",
   "id": "c9dd19f4",
   "metadata": {},
   "source": [
    "## Test 3 (Optimizer)\n",
    "This time I will try adding an optimizer while compiling the model"
   ]
  },
  {
   "cell_type": "code",
   "execution_count": 12,
   "id": "0e21895f",
   "metadata": {},
   "outputs": [],
   "source": [
    "dataset = tfds.builder('eurosat')\n",
    "info = dataset.info"
   ]
  },
  {
   "cell_type": "code",
   "execution_count": 13,
   "id": "736b4d5c",
   "metadata": {},
   "outputs": [
    {
     "name": "stdout",
     "output_type": "stream",
     "text": [
      "Train: 21600 Validation 2700 Test: 2700\n"
     ]
    }
   ],
   "source": [
    "(train, val, test) = tfds.load(\"eurosat/rgb\", split=[\"train[:80%]\", \"train[80%:90%]\", \"train[90%:]\"])\n",
    "print('Train:', len(train), 'Validation', len(val), 'Test:', len(test))"
   ]
  },
  {
   "cell_type": "code",
   "execution_count": 14,
   "id": "03833eea",
   "metadata": {},
   "outputs": [],
   "source": [
    "train = train.batch(128)\n",
    "train = train.map(normalize_img, num_parallel_calls=tf.data.AUTOTUNE)\n",
    "train = train.cache()\n",
    "train = train.shuffle(len(train))\n",
    "\n",
    "val = val.batch(128)\n",
    "val = val.map(normalize_img, num_parallel_calls=tf.data.AUTOTUNE)\n",
    "\n",
    "test = test.batch(128)\n",
    "test = test.map(normalize_img, num_parallel_calls=tf.data.AUTOTUNE)\n",
    "test = test.cache()"
   ]
  },
  {
   "cell_type": "code",
   "execution_count": 15,
   "id": "7afcaf3e",
   "metadata": {},
   "outputs": [
    {
     "name": "stdout",
     "output_type": "stream",
     "text": [
      "Using adam optimizer\n",
      "Epoch 1/100\n"
     ]
    },
    {
     "ename": "ValueError",
     "evalue": "in user code:\n\n    File \"C:\\Users\\dargu\\AppData\\Local\\Programs\\Python\\Python310\\lib\\site-packages\\keras\\src\\engine\\training.py\", line 1338, in train_function  *\n        return step_function(self, iterator)\n    File \"C:\\Users\\dargu\\AppData\\Local\\Programs\\Python\\Python310\\lib\\site-packages\\keras\\src\\engine\\training.py\", line 1322, in step_function  **\n        outputs = model.distribute_strategy.run(run_step, args=(data,))\n    File \"C:\\Users\\dargu\\AppData\\Local\\Programs\\Python\\Python310\\lib\\site-packages\\keras\\src\\engine\\training.py\", line 1303, in run_step  **\n        outputs = model.train_step(data)\n    File \"C:\\Users\\dargu\\AppData\\Local\\Programs\\Python\\Python310\\lib\\site-packages\\keras\\src\\engine\\training.py\", line 1084, in train_step\n        self.optimizer.minimize(loss, self.trainable_variables, tape=tape)\n    File \"C:\\Users\\dargu\\AppData\\Local\\Programs\\Python\\Python310\\lib\\site-packages\\keras\\src\\optimizers\\optimizer.py\", line 544, in minimize\n        self.apply_gradients(grads_and_vars)\n    File \"C:\\Users\\dargu\\AppData\\Local\\Programs\\Python\\Python310\\lib\\site-packages\\keras\\src\\optimizers\\optimizer.py\", line 1229, in apply_gradients\n        grads_and_vars = self.aggregate_gradients(grads_and_vars)\n    File \"C:\\Users\\dargu\\AppData\\Local\\Programs\\Python\\Python310\\lib\\site-packages\\keras\\src\\optimizers\\optimizer.py\", line 1191, in aggregate_gradients\n        return optimizer_utils.all_reduce_sum_gradients(grads_and_vars)\n    File \"C:\\Users\\dargu\\AppData\\Local\\Programs\\Python\\Python310\\lib\\site-packages\\keras\\src\\optimizers\\utils.py\", line 33, in all_reduce_sum_gradients\n        filtered_grads_and_vars = filter_empty_gradients(grads_and_vars)\n    File \"C:\\Users\\dargu\\AppData\\Local\\Programs\\Python\\Python310\\lib\\site-packages\\keras\\src\\optimizers\\utils.py\", line 77, in filter_empty_gradients\n        raise ValueError(\n\n    ValueError: No gradients provided for any variable: (['dense_4/kernel:0', 'dense_4/bias:0', 'dense_5/kernel:0', 'dense_5/bias:0'],). Provided `grads_and_vars` is ((None, <tf.Variable 'dense_4/kernel:0' shape=(12288, 128) dtype=float32>), (None, <tf.Variable 'dense_4/bias:0' shape=(128,) dtype=float32>), (None, <tf.Variable 'dense_5/kernel:0' shape=(128, 10) dtype=float32>), (None, <tf.Variable 'dense_5/bias:0' shape=(10,) dtype=float32>)).\n",
     "output_type": "error",
     "traceback": [
      "\u001b[1;31m---------------------------------------------------------------------------\u001b[0m",
      "\u001b[1;31mValueError\u001b[0m                                Traceback (most recent call last)",
      "Cell \u001b[1;32mIn[15], line 14\u001b[0m\n\u001b[0;32m      7\u001b[0m \u001b[38;5;28mprint\u001b[39m(\u001b[38;5;124m\"\u001b[39m\u001b[38;5;124mUsing adam optimizer\u001b[39m\u001b[38;5;124m\"\u001b[39m)\n\u001b[0;32m      8\u001b[0m model\u001b[38;5;241m.\u001b[39mcompile(\n\u001b[0;32m      9\u001b[0m     loss\u001b[38;5;241m=\u001b[39mSparseCategoricalCrossentropy(from_logits\u001b[38;5;241m=\u001b[39m\u001b[38;5;28;01mFalse\u001b[39;00m),\n\u001b[0;32m     10\u001b[0m     optimizer\u001b[38;5;241m=\u001b[39m\u001b[38;5;124m'\u001b[39m\u001b[38;5;124madam\u001b[39m\u001b[38;5;124m'\u001b[39m,\n\u001b[0;32m     11\u001b[0m     metrics\u001b[38;5;241m=\u001b[39m[SparseCategoricalAccuracy()]\n\u001b[0;32m     12\u001b[0m )\n\u001b[1;32m---> 14\u001b[0m \u001b[43mmodel\u001b[49m\u001b[38;5;241;43m.\u001b[39;49m\u001b[43mfit\u001b[49m\u001b[43m(\u001b[49m\n\u001b[0;32m     15\u001b[0m \u001b[43m    \u001b[49m\u001b[43mtrain\u001b[49m\u001b[43m,\u001b[49m\n\u001b[0;32m     16\u001b[0m \u001b[43m    \u001b[49m\u001b[43mepochs\u001b[49m\u001b[38;5;241;43m=\u001b[39;49m\u001b[38;5;241;43m100\u001b[39;49m\u001b[43m,\u001b[49m\n\u001b[0;32m     17\u001b[0m \u001b[43m    \u001b[49m\u001b[43mvalidation_data\u001b[49m\u001b[38;5;241;43m=\u001b[39;49m\u001b[43mval\u001b[49m\u001b[43m,\u001b[49m\n\u001b[0;32m     18\u001b[0m \u001b[43m)\u001b[49m\n",
      "File \u001b[1;32m~\\AppData\\Local\\Programs\\Python\\Python310\\lib\\site-packages\\keras\\src\\utils\\traceback_utils.py:70\u001b[0m, in \u001b[0;36mfilter_traceback.<locals>.error_handler\u001b[1;34m(*args, **kwargs)\u001b[0m\n\u001b[0;32m     67\u001b[0m     filtered_tb \u001b[38;5;241m=\u001b[39m _process_traceback_frames(e\u001b[38;5;241m.\u001b[39m__traceback__)\n\u001b[0;32m     68\u001b[0m     \u001b[38;5;66;03m# To get the full stack trace, call:\u001b[39;00m\n\u001b[0;32m     69\u001b[0m     \u001b[38;5;66;03m# `tf.debugging.disable_traceback_filtering()`\u001b[39;00m\n\u001b[1;32m---> 70\u001b[0m     \u001b[38;5;28;01mraise\u001b[39;00m e\u001b[38;5;241m.\u001b[39mwith_traceback(filtered_tb) \u001b[38;5;28;01mfrom\u001b[39;00m \u001b[38;5;28mNone\u001b[39m\n\u001b[0;32m     71\u001b[0m \u001b[38;5;28;01mfinally\u001b[39;00m:\n\u001b[0;32m     72\u001b[0m     \u001b[38;5;28;01mdel\u001b[39;00m filtered_tb\n",
      "File \u001b[1;32m~\\AppData\\Local\\Temp\\__autograph_generated_filevg7m6rta.py:15\u001b[0m, in \u001b[0;36mouter_factory.<locals>.inner_factory.<locals>.tf__train_function\u001b[1;34m(iterator)\u001b[0m\n\u001b[0;32m     13\u001b[0m \u001b[38;5;28;01mtry\u001b[39;00m:\n\u001b[0;32m     14\u001b[0m     do_return \u001b[38;5;241m=\u001b[39m \u001b[38;5;28;01mTrue\u001b[39;00m\n\u001b[1;32m---> 15\u001b[0m     retval_ \u001b[38;5;241m=\u001b[39m ag__\u001b[38;5;241m.\u001b[39mconverted_call(ag__\u001b[38;5;241m.\u001b[39mld(step_function), (ag__\u001b[38;5;241m.\u001b[39mld(\u001b[38;5;28mself\u001b[39m), ag__\u001b[38;5;241m.\u001b[39mld(iterator)), \u001b[38;5;28;01mNone\u001b[39;00m, fscope)\n\u001b[0;32m     16\u001b[0m \u001b[38;5;28;01mexcept\u001b[39;00m:\n\u001b[0;32m     17\u001b[0m     do_return \u001b[38;5;241m=\u001b[39m \u001b[38;5;28;01mFalse\u001b[39;00m\n",
      "\u001b[1;31mValueError\u001b[0m: in user code:\n\n    File \"C:\\Users\\dargu\\AppData\\Local\\Programs\\Python\\Python310\\lib\\site-packages\\keras\\src\\engine\\training.py\", line 1338, in train_function  *\n        return step_function(self, iterator)\n    File \"C:\\Users\\dargu\\AppData\\Local\\Programs\\Python\\Python310\\lib\\site-packages\\keras\\src\\engine\\training.py\", line 1322, in step_function  **\n        outputs = model.distribute_strategy.run(run_step, args=(data,))\n    File \"C:\\Users\\dargu\\AppData\\Local\\Programs\\Python\\Python310\\lib\\site-packages\\keras\\src\\engine\\training.py\", line 1303, in run_step  **\n        outputs = model.train_step(data)\n    File \"C:\\Users\\dargu\\AppData\\Local\\Programs\\Python\\Python310\\lib\\site-packages\\keras\\src\\engine\\training.py\", line 1084, in train_step\n        self.optimizer.minimize(loss, self.trainable_variables, tape=tape)\n    File \"C:\\Users\\dargu\\AppData\\Local\\Programs\\Python\\Python310\\lib\\site-packages\\keras\\src\\optimizers\\optimizer.py\", line 544, in minimize\n        self.apply_gradients(grads_and_vars)\n    File \"C:\\Users\\dargu\\AppData\\Local\\Programs\\Python\\Python310\\lib\\site-packages\\keras\\src\\optimizers\\optimizer.py\", line 1229, in apply_gradients\n        grads_and_vars = self.aggregate_gradients(grads_and_vars)\n    File \"C:\\Users\\dargu\\AppData\\Local\\Programs\\Python\\Python310\\lib\\site-packages\\keras\\src\\optimizers\\optimizer.py\", line 1191, in aggregate_gradients\n        return optimizer_utils.all_reduce_sum_gradients(grads_and_vars)\n    File \"C:\\Users\\dargu\\AppData\\Local\\Programs\\Python\\Python310\\lib\\site-packages\\keras\\src\\optimizers\\utils.py\", line 33, in all_reduce_sum_gradients\n        filtered_grads_and_vars = filter_empty_gradients(grads_and_vars)\n    File \"C:\\Users\\dargu\\AppData\\Local\\Programs\\Python\\Python310\\lib\\site-packages\\keras\\src\\optimizers\\utils.py\", line 77, in filter_empty_gradients\n        raise ValueError(\n\n    ValueError: No gradients provided for any variable: (['dense_4/kernel:0', 'dense_4/bias:0', 'dense_5/kernel:0', 'dense_5/bias:0'],). Provided `grads_and_vars` is ((None, <tf.Variable 'dense_4/kernel:0' shape=(12288, 128) dtype=float32>), (None, <tf.Variable 'dense_4/bias:0' shape=(128,) dtype=float32>), (None, <tf.Variable 'dense_5/kernel:0' shape=(128, 10) dtype=float32>), (None, <tf.Variable 'dense_5/bias:0' shape=(10,) dtype=float32>)).\n"
     ]
    }
   ],
   "source": [
    "model = Sequential([\n",
    "  Flatten(input_shape=(64, 64, 3)),\n",
    "  Dense(128, activation='relu'),\n",
    "  Dense(info.features[\"label\"].num_classes, activation='softmax')\n",
    "])\n",
    "\n",
    "print(\"Using adam optimizer\")\n",
    "model.compile(\n",
    "    loss=SparseCategoricalCrossentropy(from_logits=False),\n",
    "    optimizer='adam',\n",
    "    metrics=[SparseCategoricalAccuracy()]\n",
    ")\n",
    "\n",
    "model.fit(\n",
    "    train,\n",
    "    epochs=100,\n",
    "    validation_data=val,\n",
    ")"
   ]
  },
  {
   "cell_type": "code",
   "execution_count": 24,
   "id": "b93fd923",
   "metadata": {},
   "outputs": [
    {
     "name": "stdout",
     "output_type": "stream",
     "text": [
      "22/22 [==============================] - 0s 5ms/step\n"
     ]
    }
   ],
   "source": [
    "pred = model.predict(test, batch_size=128)"
   ]
  },
  {
   "cell_type": "code",
   "execution_count": 25,
   "id": "8e66463a",
   "metadata": {},
   "outputs": [
    {
     "name": "stdout",
     "output_type": "stream",
     "text": [
      "22/22 [==============================] - 0s 4ms/step - loss: 1.3560 - sparse_categorical_accuracy: 0.5544\n",
      "\n",
      "Test accuracy: 55.4%\n"
     ]
    }
   ],
   "source": [
    "loss, acc = model.evaluate(test)\n",
    "print(\"\\nTest accuracy: %.1f%%\" % (100.0 * acc))"
   ]
  },
  {
   "cell_type": "markdown",
   "id": "e5af4b6d",
   "metadata": {},
   "source": [
    "Accuracy increased again from about 40% to 55%."
   ]
  },
  {
   "cell_type": "markdown",
   "id": "d37bd0e7",
   "metadata": {},
   "source": [
    "## Test 4 (More layers)\n",
    "More layers makes the model more complex and helps it learn faster."
   ]
  },
  {
   "cell_type": "code",
   "execution_count": 16,
   "id": "0ff8b33a",
   "metadata": {},
   "outputs": [],
   "source": [
    "dataset = tfds.builder('eurosat')\n",
    "info = dataset.info"
   ]
  },
  {
   "cell_type": "code",
   "execution_count": 17,
   "id": "019a998b",
   "metadata": {},
   "outputs": [
    {
     "name": "stdout",
     "output_type": "stream",
     "text": [
      "Train: 21600 Validation 2700 Test: 2700\n"
     ]
    }
   ],
   "source": [
    "(train, val, test) = tfds.load(\"eurosat/rgb\", split=[\"train[:80%]\", \"train[80%:90%]\", \"train[90%:]\"])\n",
    "print('Train:', len(train), 'Validation', len(val), 'Test:', len(test))"
   ]
  },
  {
   "cell_type": "code",
   "execution_count": 18,
   "id": "c437fa46",
   "metadata": {},
   "outputs": [],
   "source": [
    "train = train.batch(128)\n",
    "train = train.map(normalize_img, num_parallel_calls=tf.data.AUTOTUNE)\n",
    "train = train.cache() # stores training set in cache so subsequent calls are faster\n",
    "train = train.shuffle(len(train)) # shuffles set\n",
    "\n",
    "val = val.batch(128)\n",
    "val = val.map(normalize_img, num_parallel_calls=tf.data.AUTOTUNE)\n",
    "\n",
    "# do same to test set\n",
    "test = test.batch(128)\n",
    "test = test.map(normalize_img, num_parallel_calls=tf.data.AUTOTUNE)\n",
    "test = test.cache()"
   ]
  },
  {
   "cell_type": "code",
   "execution_count": 19,
   "id": "08c5854e",
   "metadata": {},
   "outputs": [
    {
     "name": "stdout",
     "output_type": "stream",
     "text": [
      "Adding a Conv2D layer and a MaxPooling2D layer.\n",
      "Epoch 1/100\n"
     ]
    },
    {
     "ename": "ValueError",
     "evalue": "in user code:\n\n    File \"C:\\Users\\dargu\\AppData\\Local\\Programs\\Python\\Python310\\lib\\site-packages\\keras\\src\\engine\\training.py\", line 1338, in train_function  *\n        return step_function(self, iterator)\n    File \"C:\\Users\\dargu\\AppData\\Local\\Programs\\Python\\Python310\\lib\\site-packages\\keras\\src\\engine\\training.py\", line 1322, in step_function  **\n        outputs = model.distribute_strategy.run(run_step, args=(data,))\n    File \"C:\\Users\\dargu\\AppData\\Local\\Programs\\Python\\Python310\\lib\\site-packages\\keras\\src\\engine\\training.py\", line 1303, in run_step  **\n        outputs = model.train_step(data)\n    File \"C:\\Users\\dargu\\AppData\\Local\\Programs\\Python\\Python310\\lib\\site-packages\\keras\\src\\engine\\training.py\", line 1084, in train_step\n        self.optimizer.minimize(loss, self.trainable_variables, tape=tape)\n    File \"C:\\Users\\dargu\\AppData\\Local\\Programs\\Python\\Python310\\lib\\site-packages\\keras\\src\\optimizers\\optimizer.py\", line 544, in minimize\n        self.apply_gradients(grads_and_vars)\n    File \"C:\\Users\\dargu\\AppData\\Local\\Programs\\Python\\Python310\\lib\\site-packages\\keras\\src\\optimizers\\optimizer.py\", line 1229, in apply_gradients\n        grads_and_vars = self.aggregate_gradients(grads_and_vars)\n    File \"C:\\Users\\dargu\\AppData\\Local\\Programs\\Python\\Python310\\lib\\site-packages\\keras\\src\\optimizers\\optimizer.py\", line 1191, in aggregate_gradients\n        return optimizer_utils.all_reduce_sum_gradients(grads_and_vars)\n    File \"C:\\Users\\dargu\\AppData\\Local\\Programs\\Python\\Python310\\lib\\site-packages\\keras\\src\\optimizers\\utils.py\", line 33, in all_reduce_sum_gradients\n        filtered_grads_and_vars = filter_empty_gradients(grads_and_vars)\n    File \"C:\\Users\\dargu\\AppData\\Local\\Programs\\Python\\Python310\\lib\\site-packages\\keras\\src\\optimizers\\utils.py\", line 77, in filter_empty_gradients\n        raise ValueError(\n\n    ValueError: No gradients provided for any variable: (['conv2d/kernel:0', 'conv2d/bias:0', 'dense_6/kernel:0', 'dense_6/bias:0', 'dense_7/kernel:0', 'dense_7/bias:0'],). Provided `grads_and_vars` is ((None, <tf.Variable 'conv2d/kernel:0' shape=(3, 3, 3, 8) dtype=float32>), (None, <tf.Variable 'conv2d/bias:0' shape=(8,) dtype=float32>), (None, <tf.Variable 'dense_6/kernel:0' shape=(512, 128) dtype=float32>), (None, <tf.Variable 'dense_6/bias:0' shape=(128,) dtype=float32>), (None, <tf.Variable 'dense_7/kernel:0' shape=(128, 10) dtype=float32>), (None, <tf.Variable 'dense_7/bias:0' shape=(10,) dtype=float32>)).\n",
     "output_type": "error",
     "traceback": [
      "\u001b[1;31m---------------------------------------------------------------------------\u001b[0m",
      "\u001b[1;31mValueError\u001b[0m                                Traceback (most recent call last)",
      "Cell \u001b[1;32mIn[19], line 17\u001b[0m\n\u001b[0;32m     10\u001b[0m \u001b[38;5;66;03m# use default params for model compiler\u001b[39;00m\n\u001b[0;32m     11\u001b[0m model\u001b[38;5;241m.\u001b[39mcompile(\n\u001b[0;32m     12\u001b[0m     loss\u001b[38;5;241m=\u001b[39mSparseCategoricalCrossentropy(from_logits\u001b[38;5;241m=\u001b[39m\u001b[38;5;28;01mFalse\u001b[39;00m),\n\u001b[0;32m     13\u001b[0m     optimizer\u001b[38;5;241m=\u001b[39m\u001b[38;5;124m'\u001b[39m\u001b[38;5;124madam\u001b[39m\u001b[38;5;124m'\u001b[39m,\n\u001b[0;32m     14\u001b[0m     metrics\u001b[38;5;241m=\u001b[39m[SparseCategoricalAccuracy()]\n\u001b[0;32m     15\u001b[0m )\n\u001b[1;32m---> 17\u001b[0m \u001b[43mmodel\u001b[49m\u001b[38;5;241;43m.\u001b[39;49m\u001b[43mfit\u001b[49m\u001b[43m(\u001b[49m\n\u001b[0;32m     18\u001b[0m \u001b[43m    \u001b[49m\u001b[43mtrain\u001b[49m\u001b[43m,\u001b[49m\n\u001b[0;32m     19\u001b[0m \u001b[43m    \u001b[49m\u001b[43mepochs\u001b[49m\u001b[38;5;241;43m=\u001b[39;49m\u001b[38;5;241;43m100\u001b[39;49m\u001b[43m,\u001b[49m\n\u001b[0;32m     20\u001b[0m \u001b[43m    \u001b[49m\u001b[43mvalidation_data\u001b[49m\u001b[38;5;241;43m=\u001b[39;49m\u001b[43mval\u001b[49m\u001b[43m,\u001b[49m\n\u001b[0;32m     21\u001b[0m \u001b[43m)\u001b[49m\n",
      "File \u001b[1;32m~\\AppData\\Local\\Programs\\Python\\Python310\\lib\\site-packages\\keras\\src\\utils\\traceback_utils.py:70\u001b[0m, in \u001b[0;36mfilter_traceback.<locals>.error_handler\u001b[1;34m(*args, **kwargs)\u001b[0m\n\u001b[0;32m     67\u001b[0m     filtered_tb \u001b[38;5;241m=\u001b[39m _process_traceback_frames(e\u001b[38;5;241m.\u001b[39m__traceback__)\n\u001b[0;32m     68\u001b[0m     \u001b[38;5;66;03m# To get the full stack trace, call:\u001b[39;00m\n\u001b[0;32m     69\u001b[0m     \u001b[38;5;66;03m# `tf.debugging.disable_traceback_filtering()`\u001b[39;00m\n\u001b[1;32m---> 70\u001b[0m     \u001b[38;5;28;01mraise\u001b[39;00m e\u001b[38;5;241m.\u001b[39mwith_traceback(filtered_tb) \u001b[38;5;28;01mfrom\u001b[39;00m \u001b[38;5;28mNone\u001b[39m\n\u001b[0;32m     71\u001b[0m \u001b[38;5;28;01mfinally\u001b[39;00m:\n\u001b[0;32m     72\u001b[0m     \u001b[38;5;28;01mdel\u001b[39;00m filtered_tb\n",
      "File \u001b[1;32m~\\AppData\\Local\\Temp\\__autograph_generated_filevg7m6rta.py:15\u001b[0m, in \u001b[0;36mouter_factory.<locals>.inner_factory.<locals>.tf__train_function\u001b[1;34m(iterator)\u001b[0m\n\u001b[0;32m     13\u001b[0m \u001b[38;5;28;01mtry\u001b[39;00m:\n\u001b[0;32m     14\u001b[0m     do_return \u001b[38;5;241m=\u001b[39m \u001b[38;5;28;01mTrue\u001b[39;00m\n\u001b[1;32m---> 15\u001b[0m     retval_ \u001b[38;5;241m=\u001b[39m ag__\u001b[38;5;241m.\u001b[39mconverted_call(ag__\u001b[38;5;241m.\u001b[39mld(step_function), (ag__\u001b[38;5;241m.\u001b[39mld(\u001b[38;5;28mself\u001b[39m), ag__\u001b[38;5;241m.\u001b[39mld(iterator)), \u001b[38;5;28;01mNone\u001b[39;00m, fscope)\n\u001b[0;32m     16\u001b[0m \u001b[38;5;28;01mexcept\u001b[39;00m:\n\u001b[0;32m     17\u001b[0m     do_return \u001b[38;5;241m=\u001b[39m \u001b[38;5;28;01mFalse\u001b[39;00m\n",
      "\u001b[1;31mValueError\u001b[0m: in user code:\n\n    File \"C:\\Users\\dargu\\AppData\\Local\\Programs\\Python\\Python310\\lib\\site-packages\\keras\\src\\engine\\training.py\", line 1338, in train_function  *\n        return step_function(self, iterator)\n    File \"C:\\Users\\dargu\\AppData\\Local\\Programs\\Python\\Python310\\lib\\site-packages\\keras\\src\\engine\\training.py\", line 1322, in step_function  **\n        outputs = model.distribute_strategy.run(run_step, args=(data,))\n    File \"C:\\Users\\dargu\\AppData\\Local\\Programs\\Python\\Python310\\lib\\site-packages\\keras\\src\\engine\\training.py\", line 1303, in run_step  **\n        outputs = model.train_step(data)\n    File \"C:\\Users\\dargu\\AppData\\Local\\Programs\\Python\\Python310\\lib\\site-packages\\keras\\src\\engine\\training.py\", line 1084, in train_step\n        self.optimizer.minimize(loss, self.trainable_variables, tape=tape)\n    File \"C:\\Users\\dargu\\AppData\\Local\\Programs\\Python\\Python310\\lib\\site-packages\\keras\\src\\optimizers\\optimizer.py\", line 544, in minimize\n        self.apply_gradients(grads_and_vars)\n    File \"C:\\Users\\dargu\\AppData\\Local\\Programs\\Python\\Python310\\lib\\site-packages\\keras\\src\\optimizers\\optimizer.py\", line 1229, in apply_gradients\n        grads_and_vars = self.aggregate_gradients(grads_and_vars)\n    File \"C:\\Users\\dargu\\AppData\\Local\\Programs\\Python\\Python310\\lib\\site-packages\\keras\\src\\optimizers\\optimizer.py\", line 1191, in aggregate_gradients\n        return optimizer_utils.all_reduce_sum_gradients(grads_and_vars)\n    File \"C:\\Users\\dargu\\AppData\\Local\\Programs\\Python\\Python310\\lib\\site-packages\\keras\\src\\optimizers\\utils.py\", line 33, in all_reduce_sum_gradients\n        filtered_grads_and_vars = filter_empty_gradients(grads_and_vars)\n    File \"C:\\Users\\dargu\\AppData\\Local\\Programs\\Python\\Python310\\lib\\site-packages\\keras\\src\\optimizers\\utils.py\", line 77, in filter_empty_gradients\n        raise ValueError(\n\n    ValueError: No gradients provided for any variable: (['conv2d/kernel:0', 'conv2d/bias:0', 'dense_6/kernel:0', 'dense_6/bias:0', 'dense_7/kernel:0', 'dense_7/bias:0'],). Provided `grads_and_vars` is ((None, <tf.Variable 'conv2d/kernel:0' shape=(3, 3, 3, 8) dtype=float32>), (None, <tf.Variable 'conv2d/bias:0' shape=(8,) dtype=float32>), (None, <tf.Variable 'dense_6/kernel:0' shape=(512, 128) dtype=float32>), (None, <tf.Variable 'dense_6/bias:0' shape=(128,) dtype=float32>), (None, <tf.Variable 'dense_7/kernel:0' shape=(128, 10) dtype=float32>), (None, <tf.Variable 'dense_7/bias:0' shape=(10,) dtype=float32>)).\n"
     ]
    }
   ],
   "source": [
    "print(\"Adding a Conv2D layer and a MaxPooling2D layer.\")\n",
    "model = Sequential([\n",
    "    Conv2D(input_shape=(64, 64, 3), filters=8, kernel_size=(3, 3), strides=1, activation='relu', padding='SAME'),\n",
    "    MaxPooling2D(pool_size=(8, 8)),\n",
    "    Flatten(),\n",
    "    Dense(128, activation='relu'),\n",
    "    Dense(info.features[\"label\"].num_classes, activation='softmax')\n",
    "])\n",
    "\n",
    "# use default params for model compiler\n",
    "model.compile(\n",
    "    loss=SparseCategoricalCrossentropy(from_logits=False),\n",
    "    optimizer='adam',\n",
    "    metrics=[SparseCategoricalAccuracy()]\n",
    ")\n",
    "\n",
    "model.fit(\n",
    "    train,\n",
    "    epochs=100,\n",
    "    validation_data=val,\n",
    ")"
   ]
  },
  {
   "cell_type": "code",
   "execution_count": 32,
   "id": "06ab1928",
   "metadata": {},
   "outputs": [
    {
     "name": "stdout",
     "output_type": "stream",
     "text": [
      "22/22 [==============================] - 0s 12ms/step - loss: 0.6216 - sparse_categorical_accuracy: 0.7900\n",
      "\n",
      "Test accuracy: 79.0%\n"
     ]
    }
   ],
   "source": [
    "loss, acc = model.evaluate(test)\n",
    "print(\"\\nTest accuracy: %.1f%%\" % (100.0 * acc))"
   ]
  },
  {
   "cell_type": "markdown",
   "id": "3454f409",
   "metadata": {},
   "source": [
    "Accuracy increased to 79%. It's gotten a lot closer since 10% at test 1, but not as good as I was hoping for."
   ]
  },
  {
   "cell_type": "code",
   "execution_count": null,
   "id": "6d78609c",
   "metadata": {},
   "outputs": [],
   "source": []
  },
  {
   "cell_type": "markdown",
   "id": "d5900282",
   "metadata": {},
   "source": [
    "Unfortunately when I check over the notebook I get errors whenever I run model.fit. It was working before, but it isn't now and I don't know why. I no longer have the time to figure it out either as it is about 11:51 pm.\n",
    "All I did was delete comments and add print statements and now it doesn't work."
   ]
  }
 ],
 "metadata": {
  "kernelspec": {
   "display_name": "Python 3 (ipykernel)",
   "language": "python",
   "name": "python3"
  },
  "language_info": {
   "codemirror_mode": {
    "name": "ipython",
    "version": 3
   },
   "file_extension": ".py",
   "mimetype": "text/x-python",
   "name": "python",
   "nbconvert_exporter": "python",
   "pygments_lexer": "ipython3",
   "version": "3.10.9"
  }
 },
 "nbformat": 4,
 "nbformat_minor": 5
}
