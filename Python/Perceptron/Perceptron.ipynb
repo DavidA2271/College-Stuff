{
 "cells": [
  {
   "cell_type": "markdown",
   "id": "42fbf20f",
   "metadata": {},
   "source": [
    "Based on txtbook ch.1, p.18"
   ]
  },
  {
   "cell_type": "code",
   "execution_count": 2,
   "id": "7f4a1ba1",
   "metadata": {},
   "outputs": [],
   "source": [
    "from datetime import datetime\n",
    "import tensorflow as tf\n",
    "import numpy as np\n",
    "from tensorflow.keras import Sequential\n",
    "from tensorflow.keras.layers import Dense"
   ]
  },
  {
   "cell_type": "code",
   "execution_count": 3,
   "id": "bcef7bf9",
   "metadata": {},
   "outputs": [
    {
     "name": "stdout",
     "output_type": "stream",
     "text": [
      "Model: \"sequential\"\n",
      "_________________________________________________________________\n",
      " Layer (type)                Output Shape              Param #   \n",
      "=================================================================\n",
      " dense (Dense)               (None, 1)                 2         \n",
      "                                                                 \n",
      "=================================================================\n",
      "Total params: 2 (8.00 Byte)\n",
      "Trainable params: 2 (8.00 Byte)\n",
      "Non-trainable params: 0 (0.00 Byte)\n",
      "_________________________________________________________________\n"
     ]
    }
   ],
   "source": [
    "model =  Sequential()\n",
    "dense = Dense(units=1, input_shape=[1]) # layer of one neuron\n",
    "model.add(dense)\n",
    "model.compile(optimizer='sgd', loss='mean_squared_error')\n",
    "model.summary()"
   ]
  },
  {
   "cell_type": "code",
   "execution_count": 4,
   "id": "6e2d58f1",
   "metadata": {},
   "outputs": [
    {
     "name": "stdout",
     "output_type": "stream",
     "text": [
      "x= [-1.  0.  1.  2.  3.  4.]\n",
      "y= [-3. -1.  1.  3.  5.  7.]\n"
     ]
    }
   ],
   "source": [
    "# data\n",
    "x = np.array([-1, 0, 1, 2, 3, 4], dtype=float)\n",
    "y = np.array([-3, -1, 1, 3, 5, 7], dtype=float)\n",
    "print(\"x=\", x)\n",
    "print(\"y=\", y)\n",
    "# answer is y=2x-1"
   ]
  },
  {
   "cell_type": "code",
   "execution_count": 6,
   "id": "4c684b99",
   "metadata": {},
   "outputs": [
    {
     "name": "stdout",
     "output_type": "stream",
     "text": [
      "y pred = [-3. -1.  1.  3.  5.  7.]\n"
     ]
    }
   ],
   "source": [
    "m = 2\n",
    "b = -1\n",
    "y = m*x+b\n",
    "print('y pred =', y)"
   ]
  },
  {
   "cell_type": "code",
   "execution_count": 16,
   "id": "bf58a703",
   "metadata": {},
   "outputs": [
    {
     "name": "stdout",
     "output_type": "stream",
     "text": [
      "elapsed = 0:00:00.709448\n",
      "history <keras.src.callbacks.History object at 0x00000226A31BA3E0>\n"
     ]
    }
   ],
   "source": [
    "start = datetime.now()\n",
    "history = model.fit(x,y,epochs=500,verbose=0)\n",
    "end = datetime.now()\n",
    "elapsed = end-start\n",
    "print('elapsed =', elapsed)\n",
    "print('history', history)"
   ]
  },
  {
   "cell_type": "code",
   "execution_count": 15,
   "id": "4a013a4f",
   "metadata": {},
   "outputs": [
    {
     "name": "stdout",
     "output_type": "stream",
     "text": [
      "y = [-3. -1.  1.  3.  5.  7.]\n",
      "1/1 [==============================] - 0s 15ms/step\n",
      "y pred = [[-2.9999943 ]\n",
      " [-0.99999595]\n",
      " [ 1.0000023 ]\n",
      " [ 3.0000005 ]\n",
      " [ 4.999999  ]\n",
      " [ 6.999997  ]]\n"
     ]
    }
   ],
   "source": [
    "print('y =', y)\n",
    "yhat = model.predict(x)\n",
    "print('y pred =', yhat)"
   ]
  },
  {
   "cell_type": "code",
   "execution_count": null,
   "id": "b1a20b8d",
   "metadata": {},
   "outputs": [],
   "source": []
  }
 ],
 "metadata": {
  "kernelspec": {
   "display_name": "Python 3 (ipykernel)",
   "language": "python",
   "name": "python3"
  },
  "language_info": {
   "codemirror_mode": {
    "name": "ipython",
    "version": 3
   },
   "file_extension": ".py",
   "mimetype": "text/x-python",
   "name": "python",
   "nbconvert_exporter": "python",
   "pygments_lexer": "ipython3",
   "version": "3.10.9"
  }
 },
 "nbformat": 4,
 "nbformat_minor": 5
}
