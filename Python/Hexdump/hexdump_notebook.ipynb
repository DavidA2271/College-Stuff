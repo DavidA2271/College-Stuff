{
 "cells": [
  {
   "cell_type": "code",
   "execution_count": 2,
   "metadata": {},
   "outputs": [],
   "source": [
    "from hexdump import Hexdumper"
   ]
  },
  {
   "cell_type": "code",
   "execution_count": 3,
   "metadata": {},
   "outputs": [],
   "source": [
    "# generating the data files\n",
    "number = '867-5309'\n",
    "with open('sample_text.txt', 'w') as fout:\n",
    "    fout.write(str(number))\n",
    "with open('sample_data.dat', 'wb') as fout:\n",
    "    bits = bytes(number, 'utf-8')\n",
    "    fout.write(bits)"
   ]
  },
  {
   "cell_type": "code",
   "execution_count": 4,
   "metadata": {},
   "outputs": [],
   "source": [
    "# client code\n",
    "hd = Hexdumper()\n",
    "hd.target_file('sample_data.dat')"
   ]
  },
  {
   "cell_type": "code",
   "execution_count": 4,
   "metadata": {},
   "outputs": [
    {
     "name": "stdout",
     "output_type": "stream",
     "text": [
      "Help on Hexdumper in module hexdump object:\n",
      "\n",
      "class Hexdumper(builtins.object)\n",
      " |  Hexdumper() -> None\n",
      " |  \n",
      " |  Reads binary files and can output them in various formats.\n",
      " |  \n",
      " |  Methods defined here:\n",
      " |  \n",
      " |  __init__(self) -> None\n",
      " |      Initialize self.  See help(type(self)) for accurate signature.\n",
      " |  \n",
      " |  process_chunks(self, chunk: bytes, mode: str, reverse=False)\n",
      " |      Converts bytes into the format specified by the mode parameter\n",
      " |  \n",
      " |  show_ascii(self, reverse=False)\n",
      " |      Prints the ascii values of your file\n",
      " |  \n",
      " |  show_decimal(self, reverse=False)\n",
      " |      Prints the decimal values of your file\n",
      " |  \n",
      " |  show_hex(self)\n",
      " |      Prints the hexadecimal values of your file\n",
      " |  \n",
      " |  show_oct(self)\n",
      " |      Prints the octal values of your file\n",
      " |  \n",
      " |  target_file(self, filename: str, buffer_size: int = 4)\n",
      " |      Tells hexadump what file to target and how much you want to read at a time.\n",
      " |      \n",
      " |      buffer_size: int kilobytes read at a time\n",
      " |  \n",
      " |  ----------------------------------------------------------------------\n",
      " |  Data descriptors defined here:\n",
      " |  \n",
      " |  __dict__\n",
      " |      dictionary for instance variables (if defined)\n",
      " |  \n",
      " |  __weakref__\n",
      " |      list of weak references to the object (if defined)\n",
      "\n"
     ]
    }
   ],
   "source": [
    "help(hd)"
   ]
  },
  {
   "cell_type": "code",
   "execution_count": 5,
   "metadata": {},
   "outputs": [
    {
     "name": "stdout",
     "output_type": "stream",
     "text": [
      "867-5309\n",
      "68-73590\n"
     ]
    }
   ],
   "source": [
    "# ascii values of the file\n",
    "hd.show_ascii()\n",
    "hd.show_ascii(reverse=True)"
   ]
  },
  {
   "cell_type": "code",
   "execution_count": 6,
   "metadata": {},
   "outputs": [
    {
     "name": "stdout",
     "output_type": "stream",
     "text": [
      "5654 5545 5351 4857\n",
      "5456 4555 5153 5748\n"
     ]
    }
   ],
   "source": [
    "# decimal values of the file\n",
    "hd.show_decimal()\n",
    "hd.show_decimal(reverse=True)"
   ]
  },
  {
   "cell_type": "code",
   "execution_count": 7,
   "metadata": {},
   "outputs": [
    {
     "name": "stdout",
     "output_type": "stream",
     "text": [
      "0x38 0x36 0x37 0x2d 0x35 0x33 0x30 0x39\n",
      "0o70 0o66 0o67 0o55 0o65 0o63 0o60 0o71\n"
     ]
    }
   ],
   "source": [
    "# hexadecimal and octal values of the file\n",
    "hd.show_hex()\n",
    "hd.show_oct()"
   ]
  }
 ],
 "metadata": {
  "kernelspec": {
   "display_name": "Python 3",
   "language": "python",
   "name": "python3"
  },
  "language_info": {
   "codemirror_mode": {
    "name": "ipython",
    "version": 3
   },
   "file_extension": ".py",
   "mimetype": "text/x-python",
   "name": "python",
   "nbconvert_exporter": "python",
   "pygments_lexer": "ipython3",
   "version": "3.10.9"
  },
  "orig_nbformat": 4
 },
 "nbformat": 4,
 "nbformat_minor": 2
}
